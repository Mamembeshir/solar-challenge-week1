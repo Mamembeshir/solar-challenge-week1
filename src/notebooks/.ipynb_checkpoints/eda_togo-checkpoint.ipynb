{
 "cells": [
  {
   "cell_type": "markdown",
   "id": "d4a27f4f-2e6d-45d3-a0dd-9de5ca9a0db9",
   "metadata": {},
   "source": [
    "# EDA for Benin Solar Dataset\n",
    "This notebook performs exploratory data analysis (EDA) on the Benin solar dataset to clean, analyze, and visualize the data for comparison and region-ranking.\n",
    "\n",
    "## Setup\n",
    "Install libraries and load the dataset.\n",
    "\n",
    "## Summary Statistics & Missing Values\n",
    "Compute basic statistics and check for missing data.\n",
    "\n",
    "## Outlier Detection & Cleaning\n",
    "Identify and handle outliers and missing values.\n",
    "\n",
    "## Time Series Analysis\n",
    "Visualize solar irradiance and temperature over time.\n",
    "\n",
    "## Cleaning Impact\n",
    "Analyze the effect of cleaning on sensor readings.\n",
    "\n",
    "## Correlation & Relationships\n",
    "Explore relationships between variables.\n",
    "\n",
    "## Wind & Distribution Analysis\n",
    "Visualize wind patterns and distributions.\n",
    "\n",
    "## Temperature Analysis\n",
    "Examine humidity’s impact on temperature and radiation.\n",
    "\n",
    "## Bubble Chart\n",
    "Visualize GHI vs. Tamb with RH as bubble size.\n",
    "\n",
    "## Summary\n",
    "Key findings and insights."
   ]
  },
  {
   "cell_type": "code",
   "execution_count": 1,
   "id": "74ff328b-79b5-4399-9549-13df4227c0ee",
   "metadata": {},
   "outputs": [],
   "source": [
    "## Setup"
   ]
  },
  {
   "cell_type": "code",
   "execution_count": 3,
   "id": "d4c4ccc0-6c67-451e-ad91-3cc3a609d977",
   "metadata": {},
   "outputs": [],
   "source": [
    "# Import libraries for data analysis and visualization\n",
    "import pandas as pd\n",
    "import numpy as np\n",
    "import matplotlib.pyplot as plt\n",
    "import seaborn as sns\n",
    "from scipy import stats\n",
    "from windrose import WindroseAxes\n",
    "\n",
    "# Set plot style for better visuals\n",
    "sns.set_style(\"whitegrid\")"
   ]
  },
  {
   "cell_type": "code",
   "execution_count": 4,
   "id": "8b907d92-df3d-45bd-8515-bc9c52ebb5bb",
   "metadata": {},
   "outputs": [],
   "source": [
    "### Load Data"
   ]
  },
  {
   "cell_type": "code",
   "execution_count": null,
   "id": "d0f8408f-02da-44d3-bdef-ec183db7abf5",
   "metadata": {},
   "outputs": [],
   "source": [
    "# Load the dataset\n",
    "df = pd.read_csv('../../data/togo-dapaong_qc.csv')\n",
    "\n",
    "# Convert Timestamp to datetime\n",
    "df['Timestamp'] = pd.to_datetime(df['Timestamp'])\n",
    "\n",
    "# Display first 5 rows\n",
    "print(df.head())"
   ]
  }
 ],
 "metadata": {
  "kernelspec": {
   "display_name": "Python 3 (ipykernel)",
   "language": "python",
   "name": "python3"
  },
  "language_info": {
   "codemirror_mode": {
    "name": "ipython",
    "version": 3
   },
   "file_extension": ".py",
   "mimetype": "text/x-python",
   "name": "python",
   "nbconvert_exporter": "python",
   "pygments_lexer": "ipython3",
   "version": "3.13.3"
  }
 },
 "nbformat": 4,
 "nbformat_minor": 5
}
